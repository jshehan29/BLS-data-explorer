{
 "cells": [
  {
   "cell_type": "code",
   "execution_count": 1,
   "id": "311ef182",
   "metadata": {},
   "outputs": [],
   "source": [
    "# Import dependencies\n",
    "import psycopg2\n",
    "from config import config\n",
    "import pandas as pd\n",
    "import matplotlib.pyplot as plt\n",
    "import numpy as np"
   ]
  },
  {
   "cell_type": "code",
   "execution_count": 2,
   "id": "f5d3b2cf",
   "metadata": {},
   "outputs": [
    {
     "name": "stdout",
     "output_type": "stream",
     "text": [
      "Connecting to the PostgreSQL database...\n",
      "PostgreSQL database version:\n",
      "('PostgreSQL 13.3 (Ubuntu 13.3-1.pgdg20.04+1) on x86_64-pc-linux-gnu, compiled by gcc (Ubuntu 9.3.0-17ubuntu1~20.04) 9.3.0, 64-bit',)\n",
      "Database connection closed.\n"
     ]
    }
   ],
   "source": [
    "#Create link to database\n",
    "def connect():\n",
    "    \"\"\" Connect to the PostgreSQL database server \"\"\"\n",
    "    conn = None\n",
    "    try:\n",
    "        # read connection parameters\n",
    "        params = config()\n",
    "\n",
    "        # connect to the PostgreSQL server\n",
    "        print('Connecting to the PostgreSQL database...')\n",
    "        conn = psycopg2.connect(**params)\n",
    "\t\t\n",
    "        # create a cursor\n",
    "        cur = conn.cursor()\n",
    "        \n",
    "\t# execute a statement\n",
    "        print('PostgreSQL database version:')\n",
    "        cur.execute('SELECT version()')\n",
    "\n",
    "        # display the PostgreSQL database server version\n",
    "        db_version = cur.fetchone()\n",
    "        print(db_version)\n",
    "       \n",
    "\t# close the communication with the PostgreSQL\n",
    "        cur.close()\n",
    "    except (Exception, psycopg2.DatabaseError) as error:\n",
    "        print(error)\n",
    "    finally:\n",
    "        if conn is not None:\n",
    "            conn.close()\n",
    "            print('Database connection closed.')\n",
    "\n",
    "\n",
    "if __name__ == '__main__':\n",
    "    connect()\n",
    "    \n",
    "    #https://www.postgresqltutorial.com/postgresql-python/connect/"
   ]
  },
  {
   "cell_type": "code",
   "execution_count": 3,
   "id": "87dd46d5",
   "metadata": {},
   "outputs": [
    {
     "name": "stdout",
     "output_type": "stream",
     "text": [
      "Connecting to the PostgreSQL database...\n",
      "PostgreSQL database query:\n",
      "Database connection closed.\n"
     ]
    }
   ],
   "source": [
    "# Get data from database\n",
    "def get_Data():\n",
    "    \"\"\" Connect to the PostgreSQL database server \"\"\"\n",
    "    conn = None\n",
    "    try:\n",
    "         # read connection parameters\n",
    "        params = config()\n",
    "\n",
    "        # connect to the PostgreSQL server\n",
    "        print('Connecting to the PostgreSQL database...')\n",
    "        conn = psycopg2.connect(**params)\n",
    "\t\t\n",
    "        # create a cursor\n",
    "        cur = conn.cursor()\n",
    "        \n",
    "\t# execute a statement\n",
    "        print('PostgreSQL database query:')\n",
    "        sql = 'SELECT * FROM \"cpi_CUUR0000SA0\"'\n",
    "        query = pd.read_sql_query(sql, conn)\n",
    "        df1 = pd.DataFrame(query)\n",
    "        \n",
    "        sql = 'SELECT * FROM \"ppi_WPUFD4\"'\n",
    "        query = pd.read_sql_query(sql, conn)\n",
    "        df2 = pd.DataFrame(query)\n",
    "        \n",
    "        return df1, df2\n",
    "    # close the communication with the PostgreSQL\n",
    "        cur.close()\n",
    "    except (Exception, psycopg2.DatabaseError) as error:\n",
    "        print(error)\n",
    "    finally:\n",
    "        if conn is not None:\n",
    "            conn.close()\n",
    "            print('Database connection closed.')\n",
    "\n",
    "\n",
    "if __name__ == '__main__':\n",
    "    get_Data()"
   ]
  },
  {
   "cell_type": "code",
   "execution_count": 4,
   "id": "b42109db",
   "metadata": {
    "scrolled": true
   },
   "outputs": [
    {
     "name": "stdout",
     "output_type": "stream",
     "text": [
      "Connecting to the PostgreSQL database...\n",
      "PostgreSQL database query:\n",
      "Database connection closed.\n"
     ]
    }
   ],
   "source": [
    "# Assign dataframes\n",
    "cpi_df, ppi_df = get_Data()"
   ]
  },
  {
   "cell_type": "markdown",
   "id": "ce1eb9aa",
   "metadata": {},
   "source": [
    "CPI Data and Plot"
   ]
  },
  {
   "cell_type": "code",
   "execution_count": 5,
   "id": "ff4b9434",
   "metadata": {},
   "outputs": [
    {
     "data": {
      "text/html": [
       "<div>\n",
       "<style scoped>\n",
       "    .dataframe tbody tr th:only-of-type {\n",
       "        vertical-align: middle;\n",
       "    }\n",
       "\n",
       "    .dataframe tbody tr th {\n",
       "        vertical-align: top;\n",
       "    }\n",
       "\n",
       "    .dataframe thead th {\n",
       "        text-align: right;\n",
       "    }\n",
       "</style>\n",
       "<table border=\"1\" class=\"dataframe\">\n",
       "  <thead>\n",
       "    <tr style=\"text-align: right;\">\n",
       "      <th></th>\n",
       "      <th>idx</th>\n",
       "      <th>year</th>\n",
       "      <th>period</th>\n",
       "      <th>value</th>\n",
       "    </tr>\n",
       "  </thead>\n",
       "  <tbody>\n",
       "    <tr>\n",
       "      <th>0</th>\n",
       "      <td>0</td>\n",
       "      <td>2020</td>\n",
       "      <td>M12</td>\n",
       "      <td>260.474</td>\n",
       "    </tr>\n",
       "    <tr>\n",
       "      <th>1</th>\n",
       "      <td>1</td>\n",
       "      <td>2020</td>\n",
       "      <td>M11</td>\n",
       "      <td>260.229</td>\n",
       "    </tr>\n",
       "    <tr>\n",
       "      <th>2</th>\n",
       "      <td>2</td>\n",
       "      <td>2020</td>\n",
       "      <td>M10</td>\n",
       "      <td>260.388</td>\n",
       "    </tr>\n",
       "    <tr>\n",
       "      <th>3</th>\n",
       "      <td>3</td>\n",
       "      <td>2020</td>\n",
       "      <td>M09</td>\n",
       "      <td>260.280</td>\n",
       "    </tr>\n",
       "    <tr>\n",
       "      <th>4</th>\n",
       "      <td>4</td>\n",
       "      <td>2020</td>\n",
       "      <td>M08</td>\n",
       "      <td>259.918</td>\n",
       "    </tr>\n",
       "  </tbody>\n",
       "</table>\n",
       "</div>"
      ],
      "text/plain": [
       "   idx  year period    value\n",
       "0    0  2020    M12  260.474\n",
       "1    1  2020    M11  260.229\n",
       "2    2  2020    M10  260.388\n",
       "3    3  2020    M09  260.280\n",
       "4    4  2020    M08  259.918"
      ]
     },
     "execution_count": 5,
     "metadata": {},
     "output_type": "execute_result"
    }
   ],
   "source": [
    "# Investigate CPI data\n",
    "cpi_df.head()"
   ]
  },
  {
   "cell_type": "code",
   "execution_count": 6,
   "id": "a7719bb0",
   "metadata": {},
   "outputs": [],
   "source": [
    "# Modify DF\n",
    "cpi_asc = cpi_df.sort_values(by=['idx'], ascending=False)\n",
    "cpi_asc.reset_index(drop=True, inplace=True)\n",
    "cpi_asc.drop(columns='idx', inplace=True)\n",
    "\n",
    "month_mapper = {\"M01\":\"Jan\",\n",
    "               \"M02\":\"Feb\",\n",
    "               \"M03\":\"Mar\",\n",
    "               \"M04\":\"Apr\",\n",
    "               \"M05\":\"May\",\n",
    "               \"M06\":\"Jun\",\n",
    "               \"M07\":\"Jul\",\n",
    "               \"M08\":\"Aug\",\n",
    "               \"M09\":\"Sep\",\n",
    "               \"M10\":\"Oct\",\n",
    "               \"M11\":\"Nov\",\n",
    "               \"M12\":\"Dec\",}\n",
    "\n",
    "for index, row in cpi_asc.iterrows():\n",
    "    cpi_asc.loc[index,'period_concat'] = str(row.year) + '_' + month_mapper[row.period]"
   ]
  },
  {
   "cell_type": "code",
   "execution_count": 7,
   "id": "70daf3da",
   "metadata": {},
   "outputs": [
    {
     "data": {
      "text/html": [
       "<div>\n",
       "<style scoped>\n",
       "    .dataframe tbody tr th:only-of-type {\n",
       "        vertical-align: middle;\n",
       "    }\n",
       "\n",
       "    .dataframe tbody tr th {\n",
       "        vertical-align: top;\n",
       "    }\n",
       "\n",
       "    .dataframe thead th {\n",
       "        text-align: right;\n",
       "    }\n",
       "</style>\n",
       "<table border=\"1\" class=\"dataframe\">\n",
       "  <thead>\n",
       "    <tr style=\"text-align: right;\">\n",
       "      <th></th>\n",
       "      <th>year</th>\n",
       "      <th>period</th>\n",
       "      <th>value</th>\n",
       "      <th>period_concat</th>\n",
       "    </tr>\n",
       "  </thead>\n",
       "  <tbody>\n",
       "    <tr>\n",
       "      <th>0</th>\n",
       "      <td>2011</td>\n",
       "      <td>M01</td>\n",
       "      <td>220.223</td>\n",
       "      <td>2011_Jan</td>\n",
       "    </tr>\n",
       "    <tr>\n",
       "      <th>1</th>\n",
       "      <td>2011</td>\n",
       "      <td>M02</td>\n",
       "      <td>221.309</td>\n",
       "      <td>2011_Feb</td>\n",
       "    </tr>\n",
       "    <tr>\n",
       "      <th>2</th>\n",
       "      <td>2011</td>\n",
       "      <td>M03</td>\n",
       "      <td>223.467</td>\n",
       "      <td>2011_Mar</td>\n",
       "    </tr>\n",
       "    <tr>\n",
       "      <th>3</th>\n",
       "      <td>2011</td>\n",
       "      <td>M04</td>\n",
       "      <td>224.906</td>\n",
       "      <td>2011_Apr</td>\n",
       "    </tr>\n",
       "    <tr>\n",
       "      <th>4</th>\n",
       "      <td>2011</td>\n",
       "      <td>M05</td>\n",
       "      <td>225.964</td>\n",
       "      <td>2011_May</td>\n",
       "    </tr>\n",
       "  </tbody>\n",
       "</table>\n",
       "</div>"
      ],
      "text/plain": [
       "   year period    value period_concat\n",
       "0  2011    M01  220.223      2011_Jan\n",
       "1  2011    M02  221.309      2011_Feb\n",
       "2  2011    M03  223.467      2011_Mar\n",
       "3  2011    M04  224.906      2011_Apr\n",
       "4  2011    M05  225.964      2011_May"
      ]
     },
     "execution_count": 7,
     "metadata": {},
     "output_type": "execute_result"
    }
   ],
   "source": [
    "# Investigate modified DF\n",
    "cpi_asc.head()"
   ]
  },
  {
   "cell_type": "code",
   "execution_count": 8,
   "id": "40395827",
   "metadata": {},
   "outputs": [
    {
     "data": {
      "image/png": "[encoded data removed]",
      "text/plain": [
       "<Figure size 432x288 with 1 Axes>"
      ]
     },
     "metadata": {
      "needs_background": "light"
     },
     "output_type": "display_data"
    },
    {
     "data": {
      "text/plain": [
       "<Figure size 432x288 with 0 Axes>"
      ]
     },
     "metadata": {},
     "output_type": "display_data"
    }
   ],
   "source": [
    "# Create Plot\n",
    "import matplotlib.ticker as plticker\n",
    "\n",
    "x = cpi_asc['period_concat']\n",
    "y = cpi_asc['value']\n",
    "\n",
    "fig, ax = plt.subplots()\n",
    "ax.plot(x,y)\n",
    "loc = plticker.MultipleLocator(base=12.0) # this locator puts ticks at regular intervals\n",
    "ax.xaxis.set_major_locator(loc)\n",
    "plt.xticks(rotation=45)\n",
    "plt.ylabel(\"CPI (Base - 1982-84=100)\")\n",
    "plt.ylim([215,265])\n",
    "plt.yticks(np.arange(215,266,5))\n",
    "plt.xlabel(\"Reporting Period\")\n",
    "plt.title(\"Consumer Price Index (2011-2020)\")\n",
    "plt.figure(figsize=(6, 4))\n",
    "fig.tight_layout()\n",
    "ax.patch.set_facecolor('white')\n",
    "fig.savefig('static/images/data/CPI_2011-2020.png')\n",
    "plt.show()"
   ]
  },
  {
   "cell_type": "markdown",
   "id": "0ff191b6",
   "metadata": {},
   "source": [
    "PPI Data and Plot"
   ]
  },
  {
   "cell_type": "code",
   "execution_count": 9,
   "id": "0233b6c2",
   "metadata": {},
   "outputs": [
    {
     "data": {
      "text/html": [
       "<div>\n",
       "<style scoped>\n",
       "    .dataframe tbody tr th:only-of-type {\n",
       "        vertical-align: middle;\n",
       "    }\n",
       "\n",
       "    .dataframe tbody tr th {\n",
       "        vertical-align: top;\n",
       "    }\n",
       "\n",
       "    .dataframe thead th {\n",
       "        text-align: right;\n",
       "    }\n",
       "</style>\n",
       "<table border=\"1\" class=\"dataframe\">\n",
       "  <thead>\n",
       "    <tr style=\"text-align: right;\">\n",
       "      <th></th>\n",
       "      <th>idx</th>\n",
       "      <th>year</th>\n",
       "      <th>period</th>\n",
       "      <th>value</th>\n",
       "    </tr>\n",
       "  </thead>\n",
       "  <tbody>\n",
       "    <tr>\n",
       "      <th>0</th>\n",
       "      <td>0</td>\n",
       "      <td>2020</td>\n",
       "      <td>M12</td>\n",
       "      <td>119.4</td>\n",
       "    </tr>\n",
       "    <tr>\n",
       "      <th>1</th>\n",
       "      <td>1</td>\n",
       "      <td>2020</td>\n",
       "      <td>M11</td>\n",
       "      <td>119.3</td>\n",
       "    </tr>\n",
       "    <tr>\n",
       "      <th>2</th>\n",
       "      <td>2</td>\n",
       "      <td>2020</td>\n",
       "      <td>M10</td>\n",
       "      <td>119.5</td>\n",
       "    </tr>\n",
       "    <tr>\n",
       "      <th>3</th>\n",
       "      <td>3</td>\n",
       "      <td>2020</td>\n",
       "      <td>M09</td>\n",
       "      <td>118.7</td>\n",
       "    </tr>\n",
       "    <tr>\n",
       "      <th>4</th>\n",
       "      <td>4</td>\n",
       "      <td>2020</td>\n",
       "      <td>M08</td>\n",
       "      <td>118.5</td>\n",
       "    </tr>\n",
       "  </tbody>\n",
       "</table>\n",
       "</div>"
      ],
      "text/plain": [
       "   idx  year period  value\n",
       "0    0  2020    M12  119.4\n",
       "1    1  2020    M11  119.3\n",
       "2    2  2020    M10  119.5\n",
       "3    3  2020    M09  118.7\n",
       "4    4  2020    M08  118.5"
      ]
     },
     "execution_count": 9,
     "metadata": {},
     "output_type": "execute_result"
    }
   ],
   "source": [
    "# Investigate PPI Data\n",
    "ppi_df.head()"
   ]
  },
  {
   "cell_type": "code",
   "execution_count": 10,
   "id": "be1d6ffe",
   "metadata": {},
   "outputs": [],
   "source": [
    "# Modify DF\n",
    "ppi_asc = ppi_df.sort_values(by=['idx'], ascending=False)\n",
    "ppi_asc.reset_index(drop=True, inplace=True)\n",
    "ppi_asc.drop(columns='idx', inplace=True)\n",
    "\n",
    "month_mapper = {\"M01\":\"Jan\",\n",
    "               \"M02\":\"Feb\",\n",
    "               \"M03\":\"Mar\",\n",
    "               \"M04\":\"Apr\",\n",
    "               \"M05\":\"May\",\n",
    "               \"M06\":\"Jun\",\n",
    "               \"M07\":\"Jul\",\n",
    "               \"M08\":\"Aug\",\n",
    "               \"M09\":\"Sep\",\n",
    "               \"M10\":\"Oct\",\n",
    "               \"M11\":\"Nov\",\n",
    "               \"M12\":\"Dec\",}\n",
    "\n",
    "for index, row in ppi_asc.iterrows():\n",
    "    ppi_asc.loc[index,'period_concat'] = str(row.year) + '_' + month_mapper[row.period]"
   ]
  },
  {
   "cell_type": "code",
   "execution_count": 11,
   "id": "67d2407b",
   "metadata": {},
   "outputs": [
    {
     "data": {
      "text/html": [
       "<div>\n",
       "<style scoped>\n",
       "    .dataframe tbody tr th:only-of-type {\n",
       "        vertical-align: middle;\n",
       "    }\n",
       "\n",
       "    .dataframe tbody tr th {\n",
       "        vertical-align: top;\n",
       "    }\n",
       "\n",
       "    .dataframe thead th {\n",
       "        text-align: right;\n",
       "    }\n",
       "</style>\n",
       "<table border=\"1\" class=\"dataframe\">\n",
       "  <thead>\n",
       "    <tr style=\"text-align: right;\">\n",
       "      <th></th>\n",
       "      <th>year</th>\n",
       "      <th>period</th>\n",
       "      <th>value</th>\n",
       "      <th>period_concat</th>\n",
       "    </tr>\n",
       "  </thead>\n",
       "  <tbody>\n",
       "    <tr>\n",
       "      <th>0</th>\n",
       "      <td>2011</td>\n",
       "      <td>M01</td>\n",
       "      <td>103.4</td>\n",
       "      <td>2011_Jan</td>\n",
       "    </tr>\n",
       "    <tr>\n",
       "      <th>1</th>\n",
       "      <td>2011</td>\n",
       "      <td>M02</td>\n",
       "      <td>104.2</td>\n",
       "      <td>2011_Feb</td>\n",
       "    </tr>\n",
       "    <tr>\n",
       "      <th>2</th>\n",
       "      <td>2011</td>\n",
       "      <td>M03</td>\n",
       "      <td>105.2</td>\n",
       "      <td>2011_Mar</td>\n",
       "    </tr>\n",
       "    <tr>\n",
       "      <th>3</th>\n",
       "      <td>2011</td>\n",
       "      <td>M04</td>\n",
       "      <td>105.9</td>\n",
       "      <td>2011_Apr</td>\n",
       "    </tr>\n",
       "    <tr>\n",
       "      <th>4</th>\n",
       "      <td>2011</td>\n",
       "      <td>M05</td>\n",
       "      <td>106.1</td>\n",
       "      <td>2011_May</td>\n",
       "    </tr>\n",
       "  </tbody>\n",
       "</table>\n",
       "</div>"
      ],
      "text/plain": [
       "   year period  value period_concat\n",
       "0  2011    M01  103.4      2011_Jan\n",
       "1  2011    M02  104.2      2011_Feb\n",
       "2  2011    M03  105.2      2011_Mar\n",
       "3  2011    M04  105.9      2011_Apr\n",
       "4  2011    M05  106.1      2011_May"
      ]
     },
     "execution_count": 11,
     "metadata": {},
     "output_type": "execute_result"
    }
   ],
   "source": [
    "# Investigate modified DF\n",
    "ppi_asc.head()"
   ]
  },
  {
   "cell_type": "code",
   "execution_count": 12,
   "id": "7222864b",
   "metadata": {},
   "outputs": [
    {
     "data": {
      "image/png": "[encoded data removed]",
      "text/plain": [
       "<Figure size 432x288 with 1 Axes>"
      ]
     },
     "metadata": {
      "needs_background": "light"
     },
     "output_type": "display_data"
    },
    {
     "data": {
      "text/plain": [
       "<Figure size 432x288 with 0 Axes>"
      ]
     },
     "metadata": {},
     "output_type": "display_data"
    }
   ],
   "source": [
    "# Create Plot\n",
    "x = ppi_asc['period_concat']\n",
    "y = ppi_asc['value']\n",
    "\n",
    "fig, ax = plt.subplots()\n",
    "ax.plot(x,y)\n",
    "loc = plticker.MultipleLocator(base=12.0) # this locator puts ticks at regular intervals\n",
    "ax.xaxis.set_major_locator(loc)\n",
    "plt.xticks(rotation=45)\n",
    "plt.ylabel(\"PPI (Base - 1/1/2009)\")\n",
    "plt.ylim([100,124])\n",
    "plt.yticks(np.arange(100,125,2))\n",
    "plt.xlabel(\"Reporting Period\")\n",
    "plt.title(\"Producer Price Index (2011-2020)\")\n",
    "plt.figure(figsize=(6, 4))\n",
    "fig.tight_layout()\n",
    "ax.patch.set_facecolor('white')\n",
    "fig.savefig('static/images/data/PPI_2011-2020.png')\n",
    "plt.show()"
   ]
  },
  {
   "cell_type": "code",
   "execution_count": null,
   "id": "0364a1fc",
   "metadata": {},
   "outputs": [],
   "source": []
  }
 ],
 "metadata": {
  "kernelspec": {
   "display_name": "flask_env",
   "language": "python",
   "name": "flask_env"
  },
  "language_info": {
   "codemirror_mode": {
    "name": "ipython",
    "version": 3
   },
   "file_extension": ".py",
   "mimetype": "text/x-python",
   "name": "python",
   "nbconvert_exporter": "python",
   "pygments_lexer": "ipython3",
   "version": "3.8.8"
  }
 },
 "nbformat": 4,
 "nbformat_minor": 5
}
